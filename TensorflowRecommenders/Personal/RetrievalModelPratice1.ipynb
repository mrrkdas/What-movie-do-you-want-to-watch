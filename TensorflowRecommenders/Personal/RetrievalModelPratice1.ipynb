{
 "cells": [
  {
   "cell_type": "code",
   "execution_count": 1,
   "metadata": {},
   "outputs": [],
   "source": [
    "import tensorflow as tf\n",
    "import tensorflow_datasets as tfds\n",
    "import tensorflow_recommenders as tfrs\n",
    "\n",
    "import os\n",
    "import pprint\n",
    "import tempfile\n",
    "\n",
    "from typing import Dict, Text\n",
    "\n",
    "import numpy as np"
   ]
  },
  {
   "cell_type": "code",
   "execution_count": 3,
   "metadata": {},
   "outputs": [],
   "source": [
    "unique_user_ids = None\n",
    "unique_movie_titles = None"
   ]
  },
  {
   "cell_type": "code",
   "execution_count": null,
   "metadata": {},
   "outputs": [],
   "source": [
    "user_model = tf.keras.Sequential([\n",
    "    tf.keras.layers.StringLookup(vocabulary=unique_user_ids, mask_token=None),\n",
    "    tf.keras.layers.Embedding(len(unique_user_ids) +1, 32) # Forgot to put len(x) + 1\n",
    "])\n",
    "\n",
    "item_model = tf.keras.Sequential([\n",
    "    tf.keras.layers.StringLookup(vocabulary = unqiue_movie_titles, mask_token = None),\n",
    "    tf.keras.layers.Embedding(len(unique_movie_titles) +1, 32)# Forgot to put len(x) + 1\n",
    "])\n",
    "\n",
    "metric = tfrs.tasks.Retrieval(tfrs.metrics.FactorizedTopK(\n",
    "    candidates=movies.batch(128).map(item_model) # Forgot this line\n",
    "))"
   ]
  },
  {
   "cell_type": "code",
   "execution_count": null,
   "metadata": {},
   "outputs": [],
   "source": [
    "class RetrievalModel(tfrs.models.Model):\n",
    "    def __init__(self, user_model, item_model):\n",
    "        user_model: tf.keras.Model = user_model\n",
    "        item_model: tf.keras.Model = item_model\n",
    "        task: tf.keras.layers.Layer = metric \n",
    "\n",
    "    def compute_loss(self, features : Dict[Text, tf.Tensor]) -> tf.Tensor: # forgot this function\n",
    "        user_embeddings = self.user_model(features[\"user_id\"])\n",
    "        positive_movie_embeddings = self.item_model(features[\"movie_titles\"])\n",
    "\n",
    "        return self.task(user_embeddings, positive_movie_embeddings)\n",
    "\n"
   ]
  }
 ],
 "metadata": {
  "kernelspec": {
   "display_name": "Python 3.9.12 ('base')",
   "language": "python",
   "name": "python3"
  },
  "language_info": {
   "codemirror_mode": {
    "name": "ipython",
    "version": 3
   },
   "file_extension": ".py",
   "mimetype": "text/x-python",
   "name": "python",
   "nbconvert_exporter": "python",
   "pygments_lexer": "ipython3",
   "version": "3.9.12"
  },
  "orig_nbformat": 4,
  "vscode": {
   "interpreter": {
    "hash": "31b54185ef9236271117b65ccd40447ed8c429f8dbf9fa6a895ee5e4cb482fd5"
   }
  }
 },
 "nbformat": 4,
 "nbformat_minor": 2
}
