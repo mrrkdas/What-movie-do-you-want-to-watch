{
 "cells": [
  {
   "cell_type": "code",
   "execution_count": 1,
   "metadata": {},
   "outputs": [],
   "source": [
    "import tensorflow as tf\n",
    "import tensorflow_datasets as tfds\n",
    "import tensorflow_recommenders as tfrs\n",
    "\n",
    "import os\n",
    "import pprint\n",
    "import tempfile\n",
    "\n",
    "from typing import Dict, Text\n",
    "\n",
    "import numpy as np"
   ]
  },
  {
   "cell_type": "code",
   "execution_count": 3,
   "metadata": {},
   "outputs": [],
   "source": [
    "unique_user_ids = None\n",
    "unique_movie_titles = None"
   ]
  },
  {
   "cell_type": "code",
   "execution_count": 4,
   "metadata": {},
   "outputs": [
    {
     "name": "stderr",
     "output_type": "stream",
     "text": [
      "2022-09-19 21:20:53.540774: I tensorflow/core/platform/cpu_feature_guard.cc:193] This TensorFlow binary is optimized with oneAPI Deep Neural Network Library (oneDNN) to use the following CPU instructions in performance-critical operations:  AVX2 FMA\n",
      "To enable them in other operations, rebuild TensorFlow with the appropriate compiler flags.\n"
     ]
    },
    {
     "ename": "TypeError",
     "evalue": "__init__() missing 1 required positional argument: 'output_dim'",
     "output_type": "error",
     "traceback": [
      "\u001b[0;31m---------------------------------------------------------------------------\u001b[0m",
      "\u001b[0;31mTypeError\u001b[0m                                 Traceback (most recent call last)",
      "\u001b[1;32m/Users/rish/Desktop/What-movie-do-you-want-to-watch/TensorflowRecommenders/Personal/RetrievalModelPratice1.ipynb Cell 3'\u001b[0m in \u001b[0;36m<cell line: 1>\u001b[0;34m()\u001b[0m\n\u001b[1;32m      <a href='vscode-notebook-cell:/Users/rish/Desktop/What-movie-do-you-want-to-watch/TensorflowRecommenders/Personal/RetrievalModelPratice1.ipynb#ch0000001?line=0'>1</a>\u001b[0m user_model \u001b[39m=\u001b[39m tf\u001b[39m.\u001b[39mkeras\u001b[39m.\u001b[39mSequential([\n\u001b[1;32m      <a href='vscode-notebook-cell:/Users/rish/Desktop/What-movie-do-you-want-to-watch/TensorflowRecommenders/Personal/RetrievalModelPratice1.ipynb#ch0000001?line=1'>2</a>\u001b[0m     tf\u001b[39m.\u001b[39mkeras\u001b[39m.\u001b[39mlayers\u001b[39m.\u001b[39mStringLookup(vocabulary\u001b[39m=\u001b[39munique_user_ids, mask_token\u001b[39m=\u001b[39m\u001b[39mNone\u001b[39;00m),\n\u001b[0;32m----> <a href='vscode-notebook-cell:/Users/rish/Desktop/What-movie-do-you-want-to-watch/TensorflowRecommenders/Personal/RetrievalModelPratice1.ipynb#ch0000001?line=2'>3</a>\u001b[0m     tf\u001b[39m.\u001b[39;49mkeras\u001b[39m.\u001b[39;49mlayers\u001b[39m.\u001b[39;49mEmbedding(\u001b[39m32\u001b[39;49m)\n\u001b[1;32m      <a href='vscode-notebook-cell:/Users/rish/Desktop/What-movie-do-you-want-to-watch/TensorflowRecommenders/Personal/RetrievalModelPratice1.ipynb#ch0000001?line=3'>4</a>\u001b[0m ])\n\u001b[1;32m      <a href='vscode-notebook-cell:/Users/rish/Desktop/What-movie-do-you-want-to-watch/TensorflowRecommenders/Personal/RetrievalModelPratice1.ipynb#ch0000001?line=5'>6</a>\u001b[0m item_model \u001b[39m=\u001b[39m tf\u001b[39m.\u001b[39mkeras\u001b[39m.\u001b[39mSequential([\n\u001b[1;32m      <a href='vscode-notebook-cell:/Users/rish/Desktop/What-movie-do-you-want-to-watch/TensorflowRecommenders/Personal/RetrievalModelPratice1.ipynb#ch0000001?line=6'>7</a>\u001b[0m     tf\u001b[39m.\u001b[39mkeras\u001b[39m.\u001b[39mlayers\u001b[39m.\u001b[39mStringLookup(vocabulary \u001b[39m=\u001b[39m unqiue_movie_titles, mask_token \u001b[39m=\u001b[39m \u001b[39mNone\u001b[39;00m),\n\u001b[1;32m      <a href='vscode-notebook-cell:/Users/rish/Desktop/What-movie-do-you-want-to-watch/TensorflowRecommenders/Personal/RetrievalModelPratice1.ipynb#ch0000001?line=7'>8</a>\u001b[0m     tf\u001b[39m.\u001b[39mkeras\u001b[39m.\u001b[39mlayers\u001b[39m.\u001b[39mEmbedding(\u001b[39m32\u001b[39m)\n\u001b[1;32m      <a href='vscode-notebook-cell:/Users/rish/Desktop/What-movie-do-you-want-to-watch/TensorflowRecommenders/Personal/RetrievalModelPratice1.ipynb#ch0000001?line=8'>9</a>\u001b[0m ])\n",
      "File \u001b[0;32m~/opt/anaconda3/lib/python3.9/site-packages/keras/dtensor/utils.py:95\u001b[0m, in \u001b[0;36mallow_initializer_layout.<locals>._wrap_function\u001b[0;34m(layer_instance, *args, **kwargs)\u001b[0m\n\u001b[1;32m     92\u001b[0m     \u001b[39mif\u001b[39;00m layout:\n\u001b[1;32m     93\u001b[0m       layout_args[variable_name \u001b[39m+\u001b[39m \u001b[39m\"\u001b[39m\u001b[39m_layout\u001b[39m\u001b[39m\"\u001b[39m] \u001b[39m=\u001b[39m layout\n\u001b[0;32m---> 95\u001b[0m init_method(layer_instance, \u001b[39m*\u001b[39;49margs, \u001b[39m*\u001b[39;49m\u001b[39m*\u001b[39;49mkwargs)\n\u001b[1;32m     97\u001b[0m \u001b[39m# Inject the layout parameter after the invocation of __init__()\u001b[39;00m\n\u001b[1;32m     98\u001b[0m \u001b[39mfor\u001b[39;00m layout_param_name, layout \u001b[39min\u001b[39;00m layout_args\u001b[39m.\u001b[39mitems():\n",
      "\u001b[0;31mTypeError\u001b[0m: __init__() missing 1 required positional argument: 'output_dim'"
     ]
    }
   ],
   "source": [
    "user_model = tf.keras.Sequential([\n",
    "    tf.keras.layers.StringLookup(vocabulary=unique_user_ids, mask_token=None),\n",
    "    tf.keras.layers.Embedding(len(unique_user_ids) +1, 32) # Forgot to put len(x) + 1\n",
    "])\n",
    "\n",
    "item_model = tf.keras.Sequential([\n",
    "    tf.keras.layers.StringLookup(vocabulary = unqiue_movie_titles, mask_token = None),\n",
    "    tf.keras.layers.Embedding(len(unique_movie_titles) +1, 32)# Forgot to put len(x) + 1\n",
    "])"
   ]
  },
  {
   "cell_type": "code",
   "execution_count": null,
   "metadata": {},
   "outputs": [],
   "source": []
  }
 ],
 "metadata": {
  "kernelspec": {
   "display_name": "Python 3.9.12 ('base')",
   "language": "python",
   "name": "python3"
  },
  "language_info": {
   "codemirror_mode": {
    "name": "ipython",
    "version": 3
   },
   "file_extension": ".py",
   "mimetype": "text/x-python",
   "name": "python",
   "nbconvert_exporter": "python",
   "pygments_lexer": "ipython3",
   "version": "3.9.12"
  },
  "orig_nbformat": 4,
  "vscode": {
   "interpreter": {
    "hash": "31b54185ef9236271117b65ccd40447ed8c429f8dbf9fa6a895ee5e4cb482fd5"
   }
  }
 },
 "nbformat": 4,
 "nbformat_minor": 2
}
