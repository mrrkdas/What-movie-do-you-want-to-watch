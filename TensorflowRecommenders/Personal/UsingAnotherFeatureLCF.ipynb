{
 "cells": [
  {
   "cell_type": "code",
   "execution_count": null,
   "metadata": {},
   "outputs": [],
   "source": [
    "import tensorflow as tf\n",
    "import tensorflow_recommenders as tfrs\n",
    "import tensorflow_datasets as tfds\n",
    "import pandas as pd\n",
    "import numpy as np\n",
    "from pprint import pprint"
   ]
  },
  {
   "cell_type": "code",
   "execution_count": null,
   "metadata": {},
   "outputs": [],
   "source": [
    "ratings = tfds.load(\"movielens/100k-ratings\", split=\"train\")\n",
    "movies = tfds.load(\"movielens/100k-movies\", split=\"train\")"
   ]
  },
  {
   "cell_type": "code",
   "execution_count": null,
   "metadata": {},
   "outputs": [],
   "source": [
    "for x in ratings.take(1).as_numpy_iterator():\n",
    "  pprint(x)"
   ]
  },
  {
   "cell_type": "code",
   "execution_count": null,
   "metadata": {},
   "outputs": [],
   "source": [
    "for x in movies.take(1).as_numpy_iterator():\n",
    "  pprint(x)"
   ]
  },
  {
   "cell_type": "code",
   "execution_count": null,
   "metadata": {},
   "outputs": [],
   "source": [
    "ratings = ratings.map(lambda x : {\n",
    "    \"user_id\" : x[\"user_id\"],\n",
    "    \"timestamp\" : x[\"timestamp\"],\n",
    "    \"movie_title\" : x[\"movie_title\"],\n",
    "    \"raw_user_age\" : x[\"raw_user_age\"]\n",
    "})\n",
    "\n",
    "movies = movies.map(lambda x : x[\"movie_title\"])"
   ]
  },
  {
   "cell_type": "code",
   "execution_count": null,
   "metadata": {},
   "outputs": [],
   "source": [
    "timestamps = np.concatenate(list(ratings.map(lambda x: x[\"timestamp\"]).batch(100)))\n",
    "\n",
    "max_timestep = timestamps.max()\n",
    "min_timesteps = timestamps.min()\n",
    "\n",
    "timetamps_buckets = np.linspace(min_timesteps, max_timestep, 1000)\n",
    "\n",
    "unique_movie_titles = np.unique(np.concatenate(list(movies.batch(1000))))\n",
    "unique_user_ids = np.unique(np.concatenate(list(ratings.batch(1_000).map(\n",
    "    lambda x: x[\"user_id\"]))))"
   ]
  },
  {
   "cell_type": "code",
   "execution_count": null,
   "metadata": {},
   "outputs": [],
   "source": [
    "user_ages = np.concatenate(list(ratings.map(lambda x: x[\"raw_user_age\"]).batch(100)))\n",
    "\n",
    "max_user_age = user_ages.max()\n",
    "min_user_age = user_ages.min()\n",
    "\n",
    "user_age_buckets = np.linspace(min_user_age, max_user_age, 1000)"
   ]
  },
  {
   "cell_type": "code",
   "execution_count": null,
   "metadata": {},
   "outputs": [],
   "source": [
    "class UserModel(tf.keras.Model):\n",
    "  def __init__(self, use_timestamp, use_age):\n",
    "    self.use_timestamp_ = use_timestamp\n",
    "    self.use_age_ = use_age\n",
    "\n",
    "    self.user_embedding = tf.keras.Sequential([\n",
    "        tf.keras.layers.StringLookup(vocabulary = unique_user_ids, mask_tokens = None),\n",
    "        tf.keras.layers.Embedding(len(unique_user_ids)+1, 32)\n",
    "    ])\n",
    "\n",
    "    if use_timestamp:\n",
    "      self.timestamp_embeddings = tf.keras.Sequential([\n",
    "          tf.keras.layers.Discretization(timetamps_buckets.toList()),\n",
    "          tf.keras.layers.Embedding(len(timetamps_buckets)+1, 32)\n",
    "      ])\n",
    "\n",
    "      self.normalized_timestamps = tf.keras.layers.Normalization(axis = None)\n",
    "\n",
    "      self.normalized_timestamps.adapt(timestamps)\n",
    "\n",
    "    if use_age:\n",
    "      self.age_embeddings = tf.keras.Sequential([\n",
    "          tf.keras.layers.Discretization(user_age_buckets),\n",
    "          tf.keras.layers.Embedding(len(user_age_buckets)+1, 64),\n",
    "          tf.keras.layers.Embedding(64,32)\n",
    "      ])\n",
    "\n",
    "      self.normalized_ages = tf.keras.layers.Normalization(axis = None)\n",
    "\n",
    "      self.normalized_ages.adapt(user_ages)\n",
    "\n",
    "    def call(self, inputs):\n",
    "      if not use_timestamp: \n",
    "        return tf.concat([self.user_embedding(inputs[\"user_id\"]), self.age_embeddings(inputs[\"raw_user_age\"]), \n",
    "                          tf.reshape(self.normalized_ages(inputs[\"raw_user_age\"]), (-1,1))], axis = 1)\n",
    "        \n",
    "      if not use_age:\n",
    "        return tf.concat([self.user_embedding(inputs[\"user_id\"]), self.use_timestamp(inputs[\"timetamp\"]), \n",
    "                          tf.reshape(self.normalized_ages(inputs[\"timestamp\"]), (-1,1))], axis = 1)\n",
    "        \n",
    "      return tf.concat([self.user_embedding(inputs[\"user_id\"]), self.age_embeddings(inputs[\"raw_user_age\"]), \n",
    "                        self.use_timestamp(inputs[\"timetamp\"]), tf.reshape(self.normalized_ages(inputs[\"raw_user_age\"]), (-1,1)),\n",
    "                        tf.reshape(self.normalized_ages(inputs[\"timestamp\"]), (-1,1))])"
   ]
  },
  {
   "cell_type": "code",
   "execution_count": null,
   "metadata": {},
   "outputs": [],
   "source": [
    "class MovieModel(tf.keras.Model):\n",
    "  def __init__(self):\n",
    "    super().__init__()\n",
    "\n",
    "    max_tokens = 10000\n",
    "\n",
    "    self.title_embedding = tf.keras.Sequential([\n",
    "        tf.keras.layers.StringLookup(vocabulary = unique_movie_titles, mask_tokens = None),\n",
    "        tf.keras.layers.Embedding(len(unique_movie_titles)  +1 , 32)\n",
    "    ])\n",
    "\n",
    "    self.title_vectorizer = tf.keras.layers.Vectorizer(max_tokens = max_tokens)\n",
    "\n",
    "    self.title_text_embedding = tf.keras.Sequential([\n",
    "        self.title_vectorizer,\n",
    "        tf.keras.layers.Embedding(max_tokens, 32, mask_zero = True),\n",
    "        tf.keras.layers.GlobalAveragePooling1D()\n",
    "    ])\n",
    "\n",
    "    self.title_vectorizer.adapt(movies)\n",
    "\n",
    "    def call(self, titles):\n",
    "      return tf.concat([\n",
    "          self.title_embedding(titles),\n",
    "          self.title_text_embedding(titles)\n",
    "      ], axis = 1)"
   ]
  },
  {
   "cell_type": "code",
   "execution_count": null,
   "metadata": {},
   "outputs": [],
   "source": [
    "class MovieLensModel(tfrs.models.Model):\n",
    "  def __init__(self, use_timestamp, use_age):\n",
    "    self.query_model = tf.keras.Sequential([\n",
    "        UserModel(use_timestamp, use_age),\n",
    "        tf.keras.layers.Dense(128, activation = \"relu\"),\n",
    "        tf.keras.layers.Dense(32)\n",
    "    ])\n",
    "\n",
    "    self.candidate_model = tf.keras.Sequential([\n",
    "        MovieModel(),\n",
    "        tf.keras.layers.Dense(128, activation = \"relu\"),\n",
    "        tf.keras.layers.Dense(32)\n",
    "    ]) \n",
    "\n",
    "    self.task = tfrs.tasks.Retrieval(\n",
    "        metrics = tfrs.metrics.FactorziedTopK(candidates = movies.batch())\n",
    "    )"
   ]
  },
  {
   "cell_type": "code",
   "execution_count": null,
   "metadata": {},
   "outputs": [],
   "source": [
    "tf.random.set_seed(42)\n",
    "shuffled = ratings.shuffle(100_000, seed=42, reshuffle_each_iteration=False)\n",
    "\n",
    "train = shuffled.take(80_000)\n",
    "test = shuffled.skip(80_000).take(20_000)\n",
    "\n",
    "cached_train = train.shuffle(100_000).batch(2048)\n",
    "cached_test = test.batch(4096).cache()"
   ]
  },
  {
   "cell_type": "code",
   "execution_count": null,
   "metadata": {},
   "outputs": [],
   "source": []
  }
 ],
 "metadata": {
  "language_info": {
   "name": "python"
  },
  "orig_nbformat": 4
 },
 "nbformat": 4,
 "nbformat_minor": 2
}
